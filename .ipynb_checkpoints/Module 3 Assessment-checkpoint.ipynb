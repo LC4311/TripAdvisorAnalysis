{
 "cells": [
  {
   "cell_type": "markdown",
   "metadata": {},
   "source": [
    "## Web Scraping to Collect Review Data"
   ]
  },
  {
   "cell_type": "markdown",
   "metadata": {},
   "source": [
    "You are given the following urls of a website that lists reviews of a well known restaurant in Singapore. \n",
    "\n",
    "You are tasked to scrape the urls for the following data from each review:\n",
    " - The review header\n",
    " - The review footer\n",
    " - The review number\n",
    " - Optional: The date of review\n",
    " - Optional: A Boolean Indicator for Mobile Users\n",
    "\n",
    "A visual aid is given to help you identify the relevant data from the website:\n",
    "\n",
    "![screenshot](./assets/Review_Card.png)\n",
    "\n",
    "Use your knowledge of HTML and BeautifulSoup to obtain the data and pass it into a DataFrame.\n",
    "\n",
    "NOTE: There are cards on the webpage that might have tags with the same class as the tags you are looking for. Be sure to restrict your search to only the relevant html elements.\n",
    "\n",
    "Hint: Use the HTML Inspector using the Developer Tools in Chrome to help you.\n"
   ]
  },
  {
   "cell_type": "code",
   "execution_count": 360,
   "metadata": {},
   "outputs": [],
   "source": [
    "from bs4 import BeautifulSoup\n",
    "import requests\n",
    "import re, os, string\n",
    "from datetime import datetime\n",
    "\n",
    "base_url = \"https://www.tripadvisor.com.sg/Restaurant_Review-g294265-d11961130-Reviews-Hawker_Chan-Singapore.html\"\n",
    "\n",
    "urls = [\n",
    "    f\"https://www.tripadvisor.com.sg/Restaurant_Review-g294265-d11961130-Reviews-or{i*10}-Hawker_Chan-Singapore.html\"\n",
    "    for i in range(1, 48)\n",
    "]\n",
    "\n",
    "urls = [base_url, *urls]\n",
    "\n",
    "\n",
    "def get_HTML(url):\n",
    "    response = requests.get(url)\n",
    "    html = response.text\n",
    "    return html\n",
    "\n",
    "\n",
    "def get_HTML_item_from_urls(urls):\n",
    "    '''\n",
    "    For each url, look for the review card.\n",
    "    For each review card. Look for the following attributes:\n",
    "    - The rating\n",
    "    - The card header\n",
    "    - The card body\n",
    "    - Optional: The date of review\n",
    "    - Optional: A Boolean Indicator for Mobile Users\n",
    "    '''\n",
    "    res = []\n",
    "    for url in urls:\n",
    "        html_string = get_HTML(url)\n",
    "        soup = BeautifulSoup(html_string, \"lxml\")\n",
    "        for element in soup(attrs={\"class\": \"ui_column is-9\"}):\n",
    "            obj = {}\n",
    "            # Find Review Number\n",
    "            review = (\n",
    "                element.find(attrs={\"class\": \"ui_bubble_rating bubble_50\"})\n",
    "                or element.find(attrs={\"class\": \"ui_bubble_rating bubble_40\"})\n",
    "                or element.find(attrs={\"class\": \"ui_bubble_rating bubble_30\"})\n",
    "                or element.find(attrs={\"class\": \"ui_bubble_rating bubble_20\"})\n",
    "                or element.find(attrs={\"class\": \"ui_bubble_rating bubble_10\"})\n",
    "            )\n",
    "            # If the review number can't be found, then move on. This is not the tag you are looking for\n",
    "            if review == None:\n",
    "                continue\n",
    "            #Get Review number using regex\n",
    "            num = int(\n",
    "                re.findall(\n",
    "                    r'(?<=<span class=\"ui_bubble_rating bubble_)(\\d+).*(?=>)',\n",
    "                    str(review),\n",
    "                )[0]\n",
    "            )\n",
    "            #Find Card Header\n",
    "            card_head = element.find(attrs={\"class\": \"noQuotes\"})\n",
    "            #Find Card Body\n",
    "            card_body = element.find(attrs={\"class\": \"partial_entry\"})\n",
    "            #Find Date of Review\n",
    "            review_date_raw_string = element.find(attrs={\"class\": \"prw_rup prw_reviews_stay_date_hsx\"})\n",
    "            review_date_string = re.findall(r'(?<=Date of visit: )(.*)',review_date_raw_string.text)[0]\n",
    "            review_date = datetime.strptime(review_date_string,\"%B %Y\").date()\n",
    "            #Find Mobile Users\n",
    "            is_mobile_user = element.find(attrs={\"class\": \"viaMobile\"})\n",
    "            obj.update(header=card_head.text, body=card_body.text, review_num=num,review_date=review_date,is_mobile_user=bool(is_mobile_user))\n",
    "            res.append(obj)\n",
    "    return res\n"
   ]
  },
  {
   "cell_type": "code",
   "execution_count": 210,
   "metadata": {},
   "outputs": [],
   "source": [
    "# my_text = get_HTML_item_from_urls(urls[:5])\n",
    "my_text = get_HTML_item_from_urls(urls)"
   ]
  },
  {
   "cell_type": "code",
   "execution_count": 211,
   "metadata": {},
   "outputs": [
    {
     "name": "stdout",
     "output_type": "stream",
     "text": [
      "<class 'pandas.core.frame.DataFrame'>\n",
      "RangeIndex: 478 entries, 0 to 477\n",
      "Data columns (total 5 columns):\n",
      " #   Column          Non-Null Count  Dtype \n",
      "---  ------          --------------  ----- \n",
      " 0   header          478 non-null    object\n",
      " 1   body            478 non-null    object\n",
      " 2   review_num      478 non-null    int64 \n",
      " 3   review_date     478 non-null    object\n",
      " 4   is_mobile_user  478 non-null    bool  \n",
      "dtypes: bool(1), int64(1), object(3)\n",
      "memory usage: 15.5+ KB\n"
     ]
    }
   ],
   "source": [
    "import pandas as pd\n",
    "\n",
    "data = pd.DataFrame(my_text)\n",
    "data.head()\n",
    "data.info()"
   ]
  },
  {
   "cell_type": "markdown",
   "metadata": {},
   "source": [
    "The data of the results should be published in a pandas data frame format, as follows:"
   ]
  },
  {
   "cell_type": "code",
   "execution_count": 215,
   "metadata": {},
   "outputs": [
    {
     "data": {
      "text/html": [
       "<div>\n",
       "<style scoped>\n",
       "    .dataframe tbody tr th:only-of-type {\n",
       "        vertical-align: middle;\n",
       "    }\n",
       "\n",
       "    .dataframe tbody tr th {\n",
       "        vertical-align: top;\n",
       "    }\n",
       "\n",
       "    .dataframe thead th {\n",
       "        text-align: right;\n",
       "    }\n",
       "</style>\n",
       "<table border=\"1\" class=\"dataframe\">\n",
       "  <thead>\n",
       "    <tr style=\"text-align: right;\">\n",
       "      <th></th>\n",
       "      <th>header</th>\n",
       "      <th>body</th>\n",
       "      <th>review_num</th>\n",
       "      <th>review_date</th>\n",
       "      <th>is_mobile_user</th>\n",
       "    </tr>\n",
       "  </thead>\n",
       "  <tbody>\n",
       "    <tr>\n",
       "      <th>0</th>\n",
       "      <td>Superb Comfort food during COVID-19</td>\n",
       "      <td>With stricter travel advisories across the glo...</td>\n",
       "      <td>50</td>\n",
       "      <td>2020-03-01</td>\n",
       "      <td>True</td>\n",
       "    </tr>\n",
       "    <tr>\n",
       "      <th>1</th>\n",
       "      <td>Glad I tried it, but didn’t finish it</td>\n",
       "      <td>I got part of the neck of the chicken which I ...</td>\n",
       "      <td>30</td>\n",
       "      <td>2020-03-01</td>\n",
       "      <td>True</td>\n",
       "    </tr>\n",
       "    <tr>\n",
       "      <th>2</th>\n",
       "      <td>Good enough for its price, New Hawker Chan out...</td>\n",
       "      <td>Like others, drawn here for the cheapest Miche...</td>\n",
       "      <td>40</td>\n",
       "      <td>2020-01-01</td>\n",
       "      <td>False</td>\n",
       "    </tr>\n",
       "    <tr>\n",
       "      <th>3</th>\n",
       "      <td>Hawker stall is our preferable taste</td>\n",
       "      <td>We didn’t have in the restaurant at 78 smith s...</td>\n",
       "      <td>40</td>\n",
       "      <td>2020-02-01</td>\n",
       "      <td>True</td>\n",
       "    </tr>\n",
       "    <tr>\n",
       "      <th>4</th>\n",
       "      <td>Good value and quite nice, maybe overrated</td>\n",
       "      <td>I'll start by saying this is probably a bit ov...</td>\n",
       "      <td>40</td>\n",
       "      <td>2020-02-01</td>\n",
       "      <td>True</td>\n",
       "    </tr>\n",
       "  </tbody>\n",
       "</table>\n",
       "</div>"
      ],
      "text/plain": [
       "                                              header  \\\n",
       "0                Superb Comfort food during COVID-19   \n",
       "1              Glad I tried it, but didn’t finish it   \n",
       "2  Good enough for its price, New Hawker Chan out...   \n",
       "3               Hawker stall is our preferable taste   \n",
       "4         Good value and quite nice, maybe overrated   \n",
       "\n",
       "                                                body  review_num review_date  \\\n",
       "0  With stricter travel advisories across the glo...          50  2020-03-01   \n",
       "1  I got part of the neck of the chicken which I ...          30  2020-03-01   \n",
       "2  Like others, drawn here for the cheapest Miche...          40  2020-01-01   \n",
       "3  We didn’t have in the restaurant at 78 smith s...          40  2020-02-01   \n",
       "4  I'll start by saying this is probably a bit ov...          40  2020-02-01   \n",
       "\n",
       "   is_mobile_user  \n",
       "0            True  \n",
       "1            True  \n",
       "2           False  \n",
       "3            True  \n",
       "4            True  "
      ]
     },
     "execution_count": 215,
     "metadata": {},
     "output_type": "execute_result"
    }
   ],
   "source": [
    "data.head()"
   ]
  },
  {
   "cell_type": "markdown",
   "metadata": {},
   "source": [
    "Lastly, make sure to persist your data in a `csv` file or equivalent:"
   ]
  },
  {
   "cell_type": "code",
   "execution_count": 214,
   "metadata": {},
   "outputs": [],
   "source": [
    "data.to_csv(\"./data/HawkerChanReviews.csv\",index=False)"
   ]
  },
  {
   "cell_type": "markdown",
   "metadata": {},
   "source": [
    "## NLP with Review Data "
   ]
  },
  {
   "cell_type": "code",
   "execution_count": 802,
   "metadata": {},
   "outputs": [],
   "source": [
    "import numpy as np\n",
    "import matplotlib.pyplot as plt\n",
    "import seaborn as sns\n",
    "import nltk\n",
    "from nltk.tokenize import word_tokenize\n",
    "from nltk.corpus import stopwords\n",
    "from sklearn.feature_extraction.text import TfidfVectorizer, CountVectorizer\n",
    "from sklearn.model_selection import train_test_split, cross_val_predict, cross_val_score\n",
    "\n",
    "data = pd.read_csv(\"./data/HawkerChanReviews.csv\")"
   ]
  },
  {
   "cell_type": "code",
   "execution_count": 803,
   "metadata": {},
   "outputs": [
    {
     "name": "stdout",
     "output_type": "stream",
     "text": [
      "<class 'pandas.core.frame.DataFrame'>\n",
      "RangeIndex: 478 entries, 0 to 477\n",
      "Data columns (total 5 columns):\n",
      " #   Column          Non-Null Count  Dtype \n",
      "---  ------          --------------  ----- \n",
      " 0   header          478 non-null    object\n",
      " 1   body            478 non-null    object\n",
      " 2   review_num      478 non-null    int64 \n",
      " 3   review_date     478 non-null    object\n",
      " 4   is_mobile_user  478 non-null    bool  \n",
      "dtypes: bool(1), int64(1), object(3)\n",
      "memory usage: 15.5+ KB\n"
     ]
    }
   ],
   "source": [
    "data.head()\n",
    "data.info()"
   ]
  },
  {
   "cell_type": "markdown",
   "metadata": {},
   "source": [
    "Are there any missing values at all?"
   ]
  },
  {
   "cell_type": "code",
   "execution_count": 804,
   "metadata": {},
   "outputs": [
    {
     "name": "stdout",
     "output_type": "stream",
     "text": [
      "Missing Values:\n",
      "header            False\n",
      "body              False\n",
      "review_num        False\n",
      "review_date       False\n",
      "is_mobile_user    False\n",
      "dtype: bool\n"
     ]
    }
   ],
   "source": [
    "print(\"Missing Values:\", data.isnull().any(),sep=\"\\n\")"
   ]
  },
  {
   "cell_type": "markdown",
   "metadata": {},
   "source": [
    "First, let's scale the review number (represent the scale as 1 - 5):"
   ]
  },
  {
   "cell_type": "code",
   "execution_count": 805,
   "metadata": {},
   "outputs": [],
   "source": [
    "data[\"review_num\"] = data[\"review_num\"]//10"
   ]
  },
  {
   "cell_type": "markdown",
   "metadata": {},
   "source": [
    "Next let's make sure that there are no unnecessary whitespaces in the text columns:"
   ]
  },
  {
   "cell_type": "code",
   "execution_count": 806,
   "metadata": {},
   "outputs": [],
   "source": [
    "for column in data.select_dtypes(include=[\"object\"]).columns:\n",
    "    data[column] = data[column].apply(lambda text: text.strip())"
   ]
  },
  {
   "cell_type": "code",
   "execution_count": 807,
   "metadata": {},
   "outputs": [
    {
     "data": {
      "text/html": [
       "<div>\n",
       "<style scoped>\n",
       "    .dataframe tbody tr th:only-of-type {\n",
       "        vertical-align: middle;\n",
       "    }\n",
       "\n",
       "    .dataframe tbody tr th {\n",
       "        vertical-align: top;\n",
       "    }\n",
       "\n",
       "    .dataframe thead th {\n",
       "        text-align: right;\n",
       "    }\n",
       "</style>\n",
       "<table border=\"1\" class=\"dataframe\">\n",
       "  <thead>\n",
       "    <tr style=\"text-align: right;\">\n",
       "      <th></th>\n",
       "      <th>header</th>\n",
       "      <th>body</th>\n",
       "      <th>review_num</th>\n",
       "      <th>review_date</th>\n",
       "      <th>is_mobile_user</th>\n",
       "    </tr>\n",
       "  </thead>\n",
       "  <tbody>\n",
       "    <tr>\n",
       "      <th>0</th>\n",
       "      <td>Superb Comfort food during COVID-19</td>\n",
       "      <td>With stricter travel advisories across the glo...</td>\n",
       "      <td>5</td>\n",
       "      <td>2020-03-01</td>\n",
       "      <td>True</td>\n",
       "    </tr>\n",
       "    <tr>\n",
       "      <th>1</th>\n",
       "      <td>Glad I tried it, but didn’t finish it</td>\n",
       "      <td>I got part of the neck of the chicken which I ...</td>\n",
       "      <td>3</td>\n",
       "      <td>2020-03-01</td>\n",
       "      <td>True</td>\n",
       "    </tr>\n",
       "    <tr>\n",
       "      <th>2</th>\n",
       "      <td>Good enough for its price, New Hawker Chan out...</td>\n",
       "      <td>Like others, drawn here for the cheapest Miche...</td>\n",
       "      <td>4</td>\n",
       "      <td>2020-01-01</td>\n",
       "      <td>False</td>\n",
       "    </tr>\n",
       "    <tr>\n",
       "      <th>3</th>\n",
       "      <td>Hawker stall is our preferable taste</td>\n",
       "      <td>We didn’t have in the restaurant at 78 smith s...</td>\n",
       "      <td>4</td>\n",
       "      <td>2020-02-01</td>\n",
       "      <td>True</td>\n",
       "    </tr>\n",
       "    <tr>\n",
       "      <th>4</th>\n",
       "      <td>Good value and quite nice, maybe overrated</td>\n",
       "      <td>I'll start by saying this is probably a bit ov...</td>\n",
       "      <td>4</td>\n",
       "      <td>2020-02-01</td>\n",
       "      <td>True</td>\n",
       "    </tr>\n",
       "    <tr>\n",
       "      <th>...</th>\n",
       "      <td>...</td>\n",
       "      <td>...</td>\n",
       "      <td>...</td>\n",
       "      <td>...</td>\n",
       "      <td>...</td>\n",
       "    </tr>\n",
       "    <tr>\n",
       "      <th>473</th>\n",
       "      <td>Best chicken ever, at a very affordable price</td>\n",
       "      <td>Not sure I would give a Michelin star to this ...</td>\n",
       "      <td>5</td>\n",
       "      <td>2017-01-01</td>\n",
       "      <td>False</td>\n",
       "    </tr>\n",
       "    <tr>\n",
       "      <th>474</th>\n",
       "      <td>Fast food with Michelin star</td>\n",
       "      <td>Long queue to get in, but it is worth. Custome...</td>\n",
       "      <td>4</td>\n",
       "      <td>2017-01-01</td>\n",
       "      <td>True</td>\n",
       "    </tr>\n",
       "    <tr>\n",
       "      <th>475</th>\n",
       "      <td>\"Hits the spot😋\"</td>\n",
       "      <td>An expansion of the original hawker stall we h...</td>\n",
       "      <td>4</td>\n",
       "      <td>2017-01-01</td>\n",
       "      <td>True</td>\n",
       "    </tr>\n",
       "    <tr>\n",
       "      <th>476</th>\n",
       "      <td>Worth a visit</td>\n",
       "      <td>Definitely worth a visit, the food was good an...</td>\n",
       "      <td>4</td>\n",
       "      <td>2016-12-01</td>\n",
       "      <td>True</td>\n",
       "    </tr>\n",
       "    <tr>\n",
       "      <th>477</th>\n",
       "      <td>Yes, don't worry about the queue get yourself ...</td>\n",
       "      <td>The success of Mr Chan's hawker stall in China...</td>\n",
       "      <td>5</td>\n",
       "      <td>2017-01-01</td>\n",
       "      <td>True</td>\n",
       "    </tr>\n",
       "  </tbody>\n",
       "</table>\n",
       "<p>478 rows × 5 columns</p>\n",
       "</div>"
      ],
      "text/plain": [
       "                                                header  \\\n",
       "0                  Superb Comfort food during COVID-19   \n",
       "1                Glad I tried it, but didn’t finish it   \n",
       "2    Good enough for its price, New Hawker Chan out...   \n",
       "3                 Hawker stall is our preferable taste   \n",
       "4           Good value and quite nice, maybe overrated   \n",
       "..                                                 ...   \n",
       "473      Best chicken ever, at a very affordable price   \n",
       "474                       Fast food with Michelin star   \n",
       "475                                   \"Hits the spot😋\"   \n",
       "476                                      Worth a visit   \n",
       "477  Yes, don't worry about the queue get yourself ...   \n",
       "\n",
       "                                                  body  review_num  \\\n",
       "0    With stricter travel advisories across the glo...           5   \n",
       "1    I got part of the neck of the chicken which I ...           3   \n",
       "2    Like others, drawn here for the cheapest Miche...           4   \n",
       "3    We didn’t have in the restaurant at 78 smith s...           4   \n",
       "4    I'll start by saying this is probably a bit ov...           4   \n",
       "..                                                 ...         ...   \n",
       "473  Not sure I would give a Michelin star to this ...           5   \n",
       "474  Long queue to get in, but it is worth. Custome...           4   \n",
       "475  An expansion of the original hawker stall we h...           4   \n",
       "476  Definitely worth a visit, the food was good an...           4   \n",
       "477  The success of Mr Chan's hawker stall in China...           5   \n",
       "\n",
       "    review_date  is_mobile_user  \n",
       "0    2020-03-01            True  \n",
       "1    2020-03-01            True  \n",
       "2    2020-01-01           False  \n",
       "3    2020-02-01            True  \n",
       "4    2020-02-01            True  \n",
       "..          ...             ...  \n",
       "473  2017-01-01           False  \n",
       "474  2017-01-01            True  \n",
       "475  2017-01-01            True  \n",
       "476  2016-12-01            True  \n",
       "477  2017-01-01            True  \n",
       "\n",
       "[478 rows x 5 columns]"
      ]
     },
     "execution_count": 807,
     "metadata": {},
     "output_type": "execute_result"
    }
   ],
   "source": [
    "data"
   ]
  },
  {
   "cell_type": "markdown",
   "metadata": {},
   "source": [
    "Can we discriminate data based on the header only? "
   ]
  },
  {
   "cell_type": "code",
   "execution_count": 808,
   "metadata": {},
   "outputs": [
    {
     "data": {
      "text/plain": [
       "Disappointing                                         4\n",
       "Michelin star?                                        2\n",
       "Very good                                             2\n",
       "Delicious                                             2\n",
       "Dinner                                                2\n",
       "Lunch                                                 2\n",
       "Nothing special                                       2\n",
       "Worth a visit                                         1\n",
       "Tasty chicken - no Michelin star                      1\n",
       "best soya sauce chicken and charsiew michelin star    1\n",
       "Cheap affordable Michelin lunch                       1\n",
       "Definitely skip. Toa Payoh outlet.                    1\n",
       "You have to Try!                                      1\n",
       "Really good Char Siew and soy chicken                 1\n",
       "Outlet at toa payoh hub                               1\n",
       "Name: header, dtype: int64"
      ]
     },
     "execution_count": 808,
     "metadata": {},
     "output_type": "execute_result"
    }
   ],
   "source": [
    "value_counts_header = data[\"header\"].value_counts()\n",
    "value_counts_header.head(15)"
   ]
  },
  {
   "cell_type": "code",
   "execution_count": 809,
   "metadata": {},
   "outputs": [
    {
     "data": {
      "text/html": [
       "<div>\n",
       "<style scoped>\n",
       "    .dataframe tbody tr th:only-of-type {\n",
       "        vertical-align: middle;\n",
       "    }\n",
       "\n",
       "    .dataframe tbody tr th {\n",
       "        vertical-align: top;\n",
       "    }\n",
       "\n",
       "    .dataframe thead th {\n",
       "        text-align: right;\n",
       "    }\n",
       "</style>\n",
       "<table border=\"1\" class=\"dataframe\">\n",
       "  <thead>\n",
       "    <tr style=\"text-align: right;\">\n",
       "      <th></th>\n",
       "      <th>header</th>\n",
       "      <th>body</th>\n",
       "      <th>review_num</th>\n",
       "      <th>review_date</th>\n",
       "      <th>is_mobile_user</th>\n",
       "    </tr>\n",
       "  </thead>\n",
       "  <tbody>\n",
       "    <tr>\n",
       "      <th>60</th>\n",
       "      <td>Nothing special</td>\n",
       "      <td>If you like rice, cold chicken and soy sauce t...</td>\n",
       "      <td>2</td>\n",
       "      <td>2019-07-01</td>\n",
       "      <td>False</td>\n",
       "    </tr>\n",
       "    <tr>\n",
       "      <th>73</th>\n",
       "      <td>Nothing special</td>\n",
       "      <td>The Rice and Chicken signature dish is good bu...</td>\n",
       "      <td>3</td>\n",
       "      <td>2019-07-01</td>\n",
       "      <td>True</td>\n",
       "    </tr>\n",
       "    <tr>\n",
       "      <th>75</th>\n",
       "      <td>Michelin star?</td>\n",
       "      <td>My husband and I wanted to try this place as w...</td>\n",
       "      <td>3</td>\n",
       "      <td>2019-07-01</td>\n",
       "      <td>False</td>\n",
       "    </tr>\n",
       "    <tr>\n",
       "      <th>99</th>\n",
       "      <td>Michelin star?</td>\n",
       "      <td>This is a very popular restaurant at the top o...</td>\n",
       "      <td>4</td>\n",
       "      <td>2019-05-01</td>\n",
       "      <td>True</td>\n",
       "    </tr>\n",
       "    <tr>\n",
       "      <th>113</th>\n",
       "      <td>Disappointing</td>\n",
       "      <td>Perhaps I expected too much but having spent t...</td>\n",
       "      <td>2</td>\n",
       "      <td>2019-03-01</td>\n",
       "      <td>True</td>\n",
       "    </tr>\n",
       "    <tr>\n",
       "      <th>117</th>\n",
       "      <td>Very good</td>\n",
       "      <td>Belly pork on the pork and noodles dish was su...</td>\n",
       "      <td>5</td>\n",
       "      <td>2019-03-01</td>\n",
       "      <td>True</td>\n",
       "    </tr>\n",
       "    <tr>\n",
       "      <th>160</th>\n",
       "      <td>Disappointing</td>\n",
       "      <td>Had high expectations but so disappointed. Lon...</td>\n",
       "      <td>1</td>\n",
       "      <td>2018-11-01</td>\n",
       "      <td>True</td>\n",
       "    </tr>\n",
       "    <tr>\n",
       "      <th>171</th>\n",
       "      <td>Delicious</td>\n",
       "      <td>We braved the long line to try this.  It was d...</td>\n",
       "      <td>3</td>\n",
       "      <td>2017-12-01</td>\n",
       "      <td>True</td>\n",
       "    </tr>\n",
       "    <tr>\n",
       "      <th>239</th>\n",
       "      <td>Lunch</td>\n",
       "      <td>Had lunch with two colleagues. The three of us...</td>\n",
       "      <td>4</td>\n",
       "      <td>2018-06-01</td>\n",
       "      <td>True</td>\n",
       "    </tr>\n",
       "    <tr>\n",
       "      <th>339</th>\n",
       "      <td>Disappointing</td>\n",
       "      <td>Queued for 40 mins to get lukewarm chicken ric...</td>\n",
       "      <td>1</td>\n",
       "      <td>2017-12-01</td>\n",
       "      <td>True</td>\n",
       "    </tr>\n",
       "    <tr>\n",
       "      <th>383</th>\n",
       "      <td>Dinner</td>\n",
       "      <td>I feel that everyone has their personal standa...</td>\n",
       "      <td>4</td>\n",
       "      <td>2017-09-01</td>\n",
       "      <td>True</td>\n",
       "    </tr>\n",
       "    <tr>\n",
       "      <th>385</th>\n",
       "      <td>Disappointing</td>\n",
       "      <td>Didn't mind the long line outside, that was ex...</td>\n",
       "      <td>2</td>\n",
       "      <td>2017-09-01</td>\n",
       "      <td>True</td>\n",
       "    </tr>\n",
       "    <tr>\n",
       "      <th>425</th>\n",
       "      <td>Delicious</td>\n",
       "      <td>We tried to find the old stall but gave up aft...</td>\n",
       "      <td>4</td>\n",
       "      <td>2017-05-01</td>\n",
       "      <td>False</td>\n",
       "    </tr>\n",
       "    <tr>\n",
       "      <th>426</th>\n",
       "      <td>Dinner</td>\n",
       "      <td>The Soy Chicken was nice. The rice was fragran...</td>\n",
       "      <td>5</td>\n",
       "      <td>2017-05-01</td>\n",
       "      <td>True</td>\n",
       "    </tr>\n",
       "    <tr>\n",
       "      <th>444</th>\n",
       "      <td>Lunch</td>\n",
       "      <td>Lunched at Michelin's stars awarded Hawker Cha...</td>\n",
       "      <td>5</td>\n",
       "      <td>2017-04-01</td>\n",
       "      <td>True</td>\n",
       "    </tr>\n",
       "    <tr>\n",
       "      <th>471</th>\n",
       "      <td>Very good</td>\n",
       "      <td>A very good chicken and rice restaurant. Long ...</td>\n",
       "      <td>4</td>\n",
       "      <td>2017-01-01</td>\n",
       "      <td>True</td>\n",
       "    </tr>\n",
       "  </tbody>\n",
       "</table>\n",
       "</div>"
      ],
      "text/plain": [
       "              header                                               body  \\\n",
       "60   Nothing special  If you like rice, cold chicken and soy sauce t...   \n",
       "73   Nothing special  The Rice and Chicken signature dish is good bu...   \n",
       "75    Michelin star?  My husband and I wanted to try this place as w...   \n",
       "99    Michelin star?  This is a very popular restaurant at the top o...   \n",
       "113    Disappointing  Perhaps I expected too much but having spent t...   \n",
       "117        Very good  Belly pork on the pork and noodles dish was su...   \n",
       "160    Disappointing  Had high expectations but so disappointed. Lon...   \n",
       "171        Delicious  We braved the long line to try this.  It was d...   \n",
       "239            Lunch  Had lunch with two colleagues. The three of us...   \n",
       "339    Disappointing  Queued for 40 mins to get lukewarm chicken ric...   \n",
       "383           Dinner  I feel that everyone has their personal standa...   \n",
       "385    Disappointing  Didn't mind the long line outside, that was ex...   \n",
       "425        Delicious  We tried to find the old stall but gave up aft...   \n",
       "426           Dinner  The Soy Chicken was nice. The rice was fragran...   \n",
       "444            Lunch  Lunched at Michelin's stars awarded Hawker Cha...   \n",
       "471        Very good  A very good chicken and rice restaurant. Long ...   \n",
       "\n",
       "     review_num review_date  is_mobile_user  \n",
       "60            2  2019-07-01           False  \n",
       "73            3  2019-07-01            True  \n",
       "75            3  2019-07-01           False  \n",
       "99            4  2019-05-01            True  \n",
       "113           2  2019-03-01            True  \n",
       "117           5  2019-03-01            True  \n",
       "160           1  2018-11-01            True  \n",
       "171           3  2017-12-01            True  \n",
       "239           4  2018-06-01            True  \n",
       "339           1  2017-12-01            True  \n",
       "383           4  2017-09-01            True  \n",
       "385           2  2017-09-01            True  \n",
       "425           4  2017-05-01           False  \n",
       "426           5  2017-05-01            True  \n",
       "444           5  2017-04-01            True  \n",
       "471           4  2017-01-01            True  "
      ]
     },
     "execution_count": 809,
     "metadata": {},
     "output_type": "execute_result"
    }
   ],
   "source": [
    "data.loc[data.header.isin(value_counts_header[value_counts_header > 1].index)]"
   ]
  },
  {
   "cell_type": "markdown",
   "metadata": {},
   "source": [
    "Perhaps not, from the instances where the headers were the identical we had differing review numbers. However, the range between the reviews are close - indicating that commenters who made similar comments had the similar general viewpoints in their ratings. This does suggest that more information is needed from the body to supplement the analysis of review patterns. The last thing to note is that frequency of synonymous headers are rare and since the reviews are similar, it might be forgiveable to get away with just analysing the headers."
   ]
  },
  {
   "cell_type": "markdown",
   "metadata": {},
   "source": [
    "Let's now consider the effect of the comments on the ratings (the `review_num` column): "
   ]
  },
  {
   "cell_type": "markdown",
   "metadata": {},
   "source": [
    "First, we need to hold out a test set in order to be able to gauge the generalisation ability of our model:"
   ]
  },
  {
   "cell_type": "code",
   "execution_count": 810,
   "metadata": {},
   "outputs": [
    {
     "name": "stdout",
     "output_type": "stream",
     "text": [
      "(382, 2) (382,)\n",
      "(96, 2) (96,)\n"
     ]
    }
   ],
   "source": [
    "#Isolate Target From Predictors\n",
    "\n",
    "pred = data.drop([\"review_num\",\"review_date\",\"is_mobile_user\"],axis=1)\n",
    "target = data.review_num\n",
    "\n",
    "# create training and testing vars using a random seed to reproduce experiment results\n",
    "X_train, X_test, y_train, y_test = train_test_split(pred, target, test_size=0.2, random_state=5)\n",
    "\n",
    "print(X_train.shape, y_train.shape)\n",
    "print(X_test.shape, y_test.shape)"
   ]
  },
  {
   "cell_type": "markdown",
   "metadata": {},
   "source": [
    "## Preprocessing"
   ]
  },
  {
   "cell_type": "markdown",
   "metadata": {},
   "source": [
    "### Stopword and Punctuation Removal"
   ]
  },
  {
   "cell_type": "code",
   "execution_count": 811,
   "metadata": {},
   "outputs": [
    {
     "name": "stderr",
     "output_type": "stream",
     "text": [
      "/usr/local/lib/python3.7/site-packages/pandas/core/indexing.py:1048: SettingWithCopyWarning: \n",
      "A value is trying to be set on a copy of a slice from a DataFrame.\n",
      "Try using .loc[row_indexer,col_indexer] = value instead\n",
      "\n",
      "See the caveats in the documentation: https://pandas.pydata.org/pandas-docs/stable/user_guide/indexing.html#returning-a-view-versus-a-copy\n",
      "  self.obj[item_labels[indexer[info_axis]]] = value\n"
     ]
    }
   ],
   "source": [
    "def remove_stop_words_punc(data_string):\n",
    "    all_stopwords = stopwords.words(\"english\") # from nltk\n",
    "    puncs = list(string.punctuation)\n",
    "    puncs += \"’\"\n",
    "\n",
    "    final = []\n",
    "    text = word_tokenize(data_string.lower())\n",
    "    for token in text:\n",
    "        if token not in all_stopwords and token not in puncs:\n",
    "            final.append(token)\n",
    "\n",
    "    return ' '.join(final)\n",
    "\n",
    "X_train.loc[:,\"body\"] = X_train[\"body\"].apply(remove_stop_words_punc)\n",
    "X_train.loc[:,\"header\"] = X_train[\"header\"].apply(remove_stop_words_punc)"
   ]
  },
  {
   "cell_type": "markdown",
   "metadata": {},
   "source": [
    "### Stemming  "
   ]
  },
  {
   "cell_type": "code",
   "execution_count": 812,
   "metadata": {},
   "outputs": [
    {
     "data": {
      "text/plain": [
       "'bit disappoint honest'"
      ]
     },
     "execution_count": 812,
     "metadata": {},
     "output_type": "execute_result"
    }
   ],
   "source": [
    "from nltk.stem import PorterStemmer\n",
    "\n",
    "porter = PorterStemmer()\n",
    "\n",
    "def stem_word(data_text):\n",
    "    return \" \".join([porter.stem(word) for word in word_tokenize(data_text)])\n",
    "\n",
    "stem_word(X_train.loc[37,\"header\"])"
   ]
  },
  {
   "cell_type": "markdown",
   "metadata": {},
   "source": [
    "### Lemmatizing"
   ]
  },
  {
   "cell_type": "code",
   "execution_count": 813,
   "metadata": {},
   "outputs": [
    {
     "data": {
      "text/plain": [
       "'bit disappointment honest'"
      ]
     },
     "execution_count": 813,
     "metadata": {},
     "output_type": "execute_result"
    }
   ],
   "source": [
    "from nltk.stem import WordNetLemmatizer\n",
    "\n",
    "lemma = WordNetLemmatizer()\n",
    "\n",
    "\n",
    "def lemmatize_word(data_text):\n",
    "    return \" \".join([lemma.lemmatize(word) for word in word_tokenize(data_text)])\n",
    "\n",
    "lemmatize_word(X_train.loc[37,\"header\"])"
   ]
  },
  {
   "cell_type": "code",
   "execution_count": 814,
   "metadata": {},
   "outputs": [
    {
     "data": {
      "text/plain": [
       "header                       A bit of a disappointment to be honest\n",
       "body              After reading dozens of reviews and watching t...\n",
       "review_num                                                        3\n",
       "review_date                                              2019-09-01\n",
       "is_mobile_user                                                 True\n",
       "Name: 37, dtype: object"
      ]
     },
     "execution_count": 814,
     "metadata": {},
     "output_type": "execute_result"
    }
   ],
   "source": [
    "data.loc[37,:]"
   ]
  },
  {
   "cell_type": "markdown",
   "metadata": {},
   "source": [
    "### Putting it all together"
   ]
  },
  {
   "cell_type": "code",
   "execution_count": 826,
   "metadata": {},
   "outputs": [],
   "source": [
    "def TextPreprocessorFn(text,strategy=\"lemma\"):\n",
    "    lemma = WordNetLemmatizer() \n",
    "    stemmer = PorterStemmer()\n",
    "    all_stopwords = stopwords.words(\"english\")\n",
    "    puncs = list(string.punctuation)\n",
    "    puncs += [\"“\",\"’\",\"”\",\"-\"]\n",
    "    doc = word_tokenize(text.lower())\n",
    "    removed = [t for t in doc if (t not in puncs) and (t not in all_stopwords)]\n",
    "    if strategy == \"lemma\":\n",
    "        return \" \".join([lemma.lemmatize(token) for token in removed])\n",
    "    else:\n",
    "        return \" \".join([stemmer.stem(token) for token in removed])"
   ]
  },
  {
   "cell_type": "code",
   "execution_count": 827,
   "metadata": {},
   "outputs": [
    {
     "data": {
      "text/plain": [
       "array(['great pork belly so-so chicken', '5 michelin star',\n",
       "       'michel-in michel-out', 'hype', 'good value taste', 'tragic',\n",
       "       'michelin star', 'original pretty amazing',\n",
       "       'singapore one find chicken rice 2 plate',\n",
       "       'best chicken rice ever', \"wo n't find michellin star street food\",\n",
       "       'fast food michelin star', 'eaten better food', 'much',\n",
       "       'hawker chan famous chicken', 'cool try worth hype',\n",
       "       'good experience', 'michelin star',\n",
       "       'super sedap soya chicken noodle',\n",
       "       \"terrible service horrible food michelin worthy n't bother\",\n",
       "       'family lunch', 'cheap tasty -- life reputation', 'fantastic',\n",
       "       'overhyped', 'rude bad service', 'worth',\n",
       "       'michelin star chicken rice noodle', 'good must visit', 'alright',\n",
       "       'tasty chicken', 'disappointing given hype', 'ok nothing special',\n",
       "       'superb comfort food covid-19', 'nothing special',\n",
       "       'e everything need', 'could use quality control',\n",
       "       'cheapest michelin star restaurant',\n",
       "       \"yes n't worry queue get line\", 'sure fuss', 'awesome meal',\n",
       "       'cheap michelin star restaurant', 'diasppointing overrated',\n",
       "       'hawker stall preferable taste', 'tasteless chicken',\n",
       "       'signature dish cold measly portion fragmented bone',\n",
       "       'cheapest good michelin meal sing',\n",
       "       'feel hardworking chef trying achieve accolade',\n",
       "       'cheapest 1 star michelin -- quite good',\n",
       "       'michelin food 5 singapore dollar/plate', 'worth seeking',\n",
       "       'good noodle', 'worth hype', 'stick chicken', 'cheap n good eats',\n",
       "       'first definitely worth', 'michelin star meal', 'excellent food',\n",
       "       'worth wait', 'michelin well deserved',\n",
       "       'cheapest michelin star experience', 'food fine nothing special',\n",
       "       'great food luke warm', 'totally overrated',\n",
       "       '1-michelin star meal incredible story', 'cold average',\n",
       "       'michelin meh', 'forget hype', 'take care dangerous health',\n",
       "       'excellent food value', 'lovely food price pat',\n",
       "       'unfortunately live hype', 'everything expected', 'disappointing',\n",
       "       'delicious food served', 'tasteless price winning menu',\n",
       "       'yummy chicken rice', 'forget char siu know',\n",
       "       'great food fast aervice', 'super food lived hype',\n",
       "       'take michelin star back', 'dinner hawker chan tai seng branch',\n",
       "       'soya chicken rice ... yum', 'overhyped michelin star craze',\n",
       "       'post mediterranean baltic cruise',\n",
       "       'michelin way good hawker quality', 'short changed',\n",
       "       'michelin star street food really good', 'cold food', 'lunch',\n",
       "       '4-stars go soya sauce chicken', 'michelin starred restaurant',\n",
       "       'quality assured chef chan', 'good ...',\n",
       "       'best soy sauce chicken -- deserving michelin star',\n",
       "       'great food comfy environment', 'disappointed',\n",
       "       'best chicken ever affordable price',\n",
       "       'michelin star food street stall price',\n",
       "       'delicious soy sauce chicken noodle',\n",
       "       'great soya chicken michelin star bargain',\n",
       "       'good cheap michelin experience', 'hawker chan funan',\n",
       "       'hong kong soy sauce chicken',\n",
       "       \"michelin star mcdonald 's better ...\",\n",
       "       'michelin star got excellent food ...', 'delicious',\n",
       "       'choking hazard zero star could', \"tried still n't find special\",\n",
       "       \"rip n't make mistake sucked\", 'disappointing meal',\n",
       "       'didnt wow 2nd n 3rd visit', 'good price', 'must visit singapore',\n",
       "       'place soy sauce chicken', 'chicken melt mouth',\n",
       "       'michelin little joke', 'succulent chicken', 'michelin star',\n",
       "       'bony busy', 'tasty chicken michelin star', 'branch good',\n",
       "       \"'s michelin star\", 'visited funan branch',\n",
       "       \"'s cheap disappointed lot better place eat price\",\n",
       "       'sampler meat platter worth wait line', 'good quality clean fast',\n",
       "       'sorry michelin', 'awesome pork', 'sure 1 michelin star',\n",
       "       'must try mediocre', 'michelin laugh',\n",
       "       'good value quite nice maybe overrated', 'michelin get right',\n",
       "       'authentic chinese fastfood michelin star', 'completely worth',\n",
       "       'seriously', 'little disappointed', 'pleased came experience ..',\n",
       "       'subpar food', 'avoid farce', 'worth waiting', 'good food',\n",
       "       'chan special soya chicken good value', 'bad bad bad bad',\n",
       "       'food speaks volume service', 'hawker chan good',\n",
       "       'okay good expected', 'dinner',\n",
       "       \"still michelin stared restaurant 'm charlie chan earl derr biggers\",\n",
       "       'glad tried finish', 'bit disappointment honest',\n",
       "       'missed michelin mark', 'hawker food', 'incredible value',\n",
       "       'food consistent ...', 'believe hype', 'hype',\n",
       "       'really unique michelin 1 restaurant', 'great food super cheap',\n",
       "       \"order noodle 're hurry\", 'michelin budget',\n",
       "       'good enough price new hawker chan outlet funan mall',\n",
       "       'umm seriously michelin', 'bit strange michelin star',\n",
       "       'best soya sauce chicken charsiew michelin star',\n",
       "       'harrassed gangster china waiter toa payoh branch',\n",
       "       'hype substance', 'michelin preferred',\n",
       "       \"could n't finish it-undercooked chicken\",\n",
       "       'restaurant get awarded michelin star',\n",
       "       'dining cheapest michelin star restaurant',\n",
       "       'believe everything read', 'simple tasty', 'michelin star 👍',\n",
       "       'michelin starred', 'super disappointing',\n",
       "       'toa payoh central outlet', 'cheapest michelin star nice meal',\n",
       "       'excellentl good hawker food', 'michelin star experience',\n",
       "       'cheap meal good quality', 'starred', 'worth visit',\n",
       "       'delicious long long queue',\n",
       "       'cold food poor service fast food style restaurant',\n",
       "       'different kind chicken rice', 'average', 'major let',\n",
       "       'overated hawker chan', 'famous soy sauce chicken',\n",
       "       'hawker michelin food', 'de-licious', 'ridiculous waiting time',\n",
       "       'zero star food worse service', 'bad choise', 'definielty go',\n",
       "       'best', 'overhyped average hawker fare', 'served cold',\n",
       "       'delicious expected', \"'s good 's good\", 'okay', 'good value',\n",
       "       'hype exceptional taste nothing shout', 'great chicken indeed',\n",
       "       'terrible soya chicken', 'cheap eats meat', 'rated',\n",
       "       'outlet kuala lumpur', 'great chicken noodle',\n",
       "       'decent food would recommend', 'little over-hyped good food',\n",
       "       'disappointing', 'cheapest michelin star eatery world',\n",
       "       'decent fast food', 'tad disappointing',\n",
       "       'believe hype go anywhere',\n",
       "       'fresh hawker food sauce given deserved 1 michelin star rating',\n",
       "       'really enjoyable', 'delicious', 'michelin star surely',\n",
       "       'high quality soya chicken', 'michelin star hawker',\n",
       "       'street food good quality', 'experience',\n",
       "       'one star michelin star sure', 'disgusting',\n",
       "       'ordinary michelin star', 'terrible', 'good food overated',\n",
       "       'actually bad ...', 'ok forget michelin star bit', 'worth trying',\n",
       "       'good', 'char siew way better popular soy sauce chicken',\n",
       "       'best hawker stall', 'really', 'best chicken ever- michelin star',\n",
       "       'expectation', 'unfortunatelly ... poor',\n",
       "       'authentic singaporean food', 'much write', 'ok chicken',\n",
       "       'definitely skip toa payoh outlet', 'good chicken rice',\n",
       "       'tasty worth wait', 'good high expectation',\n",
       "       'best cheap meal city',\n",
       "       'manage expectation enjoy good food rather sterile atmosphere',\n",
       "       'chicken char siu', 'late lunch', 'bone red marrow',\n",
       "       'char siew delicious chicken average', 'okay expected',\n",
       "       'outlet toa payoh hub', 'singapore must-do', 'missing something',\n",
       "       'lunch', 'really good char siew soy chicken',\n",
       "       \"cheapest michelin star 'restaurant world\", '', 'disappointing',\n",
       "       'overpriced bad service', 'michelin bib ‘ starred one',\n",
       "       'great food', 'tasty street food friendly staff', 'amazing',\n",
       "       'disappointing michelin experience toa payoh outlet',\n",
       "       'dissapoiting', 'simple yet superb', 'toa payoh outlet',\n",
       "       'cheap affordable michelin lunch', 'really good', 'overstated',\n",
       "       'michelin star', 'good value worth hype',\n",
       "       \"next michelin star force mcdonald 's\",\n",
       "       \"michelin star worthy n't know\", 'liao fan hawker chan',\n",
       "       'unbelievably cheap', 'quick lunch', \"best oily chicken 've ever\",\n",
       "       'delicious chicken rice', 'go experience food', 'could better',\n",
       "       'worm dish terrible hygiene', 'affordable michelin star',\n",
       "       'glorified hawker food', 'michelin star award',\n",
       "       'cheapest michelin-star dish', 'good chicken 1 michelin star',\n",
       "       'cold food new place', 'good', 'cold food ... bad service',\n",
       "       'hawker fare going upmarket', 'good cheap food',\n",
       "       'food standard standardized', 'nice good expected',\n",
       "       'fun novelty great food', 'delicious food .. sooo good',\n",
       "       '45minute wait worth every minute',\n",
       "       \"cheapest michelin star food 'll ever find\",\n",
       "       'tasty springy noodle', 'michelin judge panel thinking',\n",
       "       'pork excellent chicken ok', 'victim success',\n",
       "       'terrible food horrible service', 'experience missed',\n",
       "       'hawker chan smith street',\n",
       "       'temporary bout insanity befalls michelin reviewer', 'sure fuss',\n",
       "       'fun food', 'deserve michelin star 1 hype', 'amazing food',\n",
       "       'love soyasauce chicken noodle', \"'s lived\",\n",
       "       'badly burnt char siew sold', 'inconsistent',\n",
       "       'reputation alone justify accolade', 'try',\n",
       "       '3rd time chef chan shop', 'fresh cheap excellent china town food',\n",
       "       'worth price', 'tasty', 'go early beat queue',\n",
       "       \"best bbq pork pork belly 've\", 'award worthy soy sauce chicken',\n",
       "       'ok expectation', '5/5',\n",
       "       'well hawker chan made history ... wanted share',\n",
       "       'find anything special', 'tasty hawker food', 'over-hyped', 'good',\n",
       "       'tasty chicken best soya sauce noodle', 'average cheap',\n",
       "       'expectation high', \"'s michelin star\", 'michelin star',\n",
       "       'tasty fast', 'cheapest michelin star ever', 'chicken noodle make',\n",
       "       'authentic singapore soya chicken', 'try', 'chicken good',\n",
       "       'alright', 'disappointing', 'reasonable fair', 'great seems',\n",
       "       'incredible food', 'cheap good', 'crowded',\n",
       "       'overrated comfort food',\n",
       "       'get better deal original hawker stall chinatown complex',\n",
       "       'nice food michelin-starred', 'bibendum got one wrong methinks',\n",
       "       \"michelin star restaurant wo n't hurt wallet\", 'great value',\n",
       "       'sunday dinner toa payoh branch', 'worth hype',\n",
       "       'quick cheap reasonable quality meal', 'terrible service', 'must',\n",
       "       'authentic dish worth waiting', 'disappointing',\n",
       "       'good food fine dining', 'good visit', 'live hype',\n",
       "       'michelin star hawker stand',\n",
       "       'cheapest michelins starred restaurant evenr',\n",
       "       'rushed staff equal inconsistent product', 'little actual meat',\n",
       "       'good say', 'over-rated dish crowned michelin', 'prepared queue',\n",
       "       'singapore michelin-starred chicken rice', 'nothing special',\n",
       "       'lunch visit tai seng branch',\n",
       "       'either michelin greay day mr chan indifferent one',\n",
       "       'awesome cheap eats', 'great',\n",
       "       'cheapest michelin start restaurant world'], dtype=object)"
      ]
     },
     "execution_count": 827,
     "metadata": {},
     "output_type": "execute_result"
    }
   ],
   "source": [
    "X_train[\"header\"].apply(TextPreprocessorFn,strategy=\"lemma\").values"
   ]
  },
  {
   "cell_type": "markdown",
   "metadata": {},
   "source": [
    "### Putting it all together into a Pipeline (Optional)"
   ]
  },
  {
   "cell_type": "code",
   "execution_count": 828,
   "metadata": {},
   "outputs": [],
   "source": [
    "from sklearn.base import TransformerMixin, BaseEstimator\n",
    "\n",
    "class TextPreprocessor(BaseEstimator, TransformerMixin):\n",
    "    def __init__(self,strategy=\"lemma\"):\n",
    "        \"\"\"\n",
    "        Text preprocessing transformer includes steps:\n",
    "            1. Text normalization\n",
    "            2. Punctuation removal\n",
    "            3. Stop words removal\n",
    "            4. Lemmatization\n",
    "        \"\"\"\n",
    "        self.strategy = strategy\n",
    "\n",
    "    def fit(self, X, y=None):\n",
    "        self._lemma = WordNetLemmatizer() \n",
    "        self._stemmer = PorterStemmer()\n",
    "        self._all_stopwords = stopwords.words(\"english\")\n",
    "        self._puncs = list(string.punctuation)\n",
    "        self._puncs += [\"“\",\"’\",\"”\",\"-\"]\n",
    "        self._vectorized_process = np.vectorize(self._preprocess_text)\n",
    "        return self\n",
    "\n",
    "    def transform(self, X, *_):\n",
    "        X_copy = X.copy().values\n",
    "        \n",
    "        return self._vectorized_process(X_copy)\n",
    "    \n",
    "    \n",
    "    def _preprocess_text(self, text):\n",
    "        doc = word_tokenize(text.lower())\n",
    "        removed_punct = self._remove_punct(doc)\n",
    "        removed_stop_words = self._remove_stop_words(removed_punct)\n",
    "        if self.strategy == \"lemma\":\n",
    "            return self._lemmatize(removed_stop_words)\n",
    "        else:\n",
    "            return self._stem(removed_stop_words)\n",
    "\n",
    "    def _remove_punct(self, doc):\n",
    "        return [t for t in doc if t not in self._puncs]\n",
    "\n",
    "    def _remove_stop_words(self, doc):\n",
    "        return [t for t in doc if t not in self._all_stopwords]\n",
    "\n",
    "    def _lemmatize(self, doc):\n",
    "        return ' '.join([self._lemma.lemmatize(t) for t in doc])\n",
    "    \n",
    "    def _stem(self,doc):\n",
    "        return ' '.join([self._stemmer.stem(t) for t in doc])\n",
    "    \n",
    "#     def _more_tags(self):\n",
    "#         return {'multioutput_only': True,\n",
    "#                 'non_deterministic': True}"
   ]
  },
  {
   "cell_type": "code",
   "execution_count": 899,
   "metadata": {},
   "outputs": [],
   "source": [
    "processor = TextPreprocessor()\n",
    "processed_X_train = X_train.copy()\n",
    "processed_X_train.loc[:,\"header\"] = processor.fit_transform(X_train[\"header\"])\n",
    "processed_X_train.loc[:,\"body\"] = processor.fit_transform(X_train[\"body\"])\n",
    "\n",
    "processed_X_test = X_test.copy()\n",
    "processed_X_test.loc[:,\"header\"] = processor.fit_transform(X_test[\"header\"])\n",
    "processed_X_test.loc[:,\"body\"] = processor.fit_transform(X_test[\"body\"])"
   ]
  },
  {
   "cell_type": "markdown",
   "metadata": {},
   "source": [
    "### Creating the Training and Testing Tf-Idf Matrices"
   ]
  },
  {
   "cell_type": "code",
   "execution_count": 927,
   "metadata": {},
   "outputs": [],
   "source": [
    "from sklearn.feature_extraction.text import TfidfVectorizer\n",
    "vectorizer_head = TfidfVectorizer()\n",
    "vectorizer_body = TfidfVectorizer()\n",
    "tfidf_matrix_header_train = vectorizer_head.fit_transform(processed_X_train[\"header\"])\n",
    "tfidf_matrix_body_train = vectorizer_body.fit_transform(processed_X_train[\"body\"])\n"
   ]
  },
  {
   "cell_type": "code",
   "execution_count": 928,
   "metadata": {},
   "outputs": [
    {
     "data": {
      "text/plain": [
       "<382x1739 sparse matrix of type '<class 'numpy.float64'>'\n",
       "\twith 7745 stored elements in Compressed Sparse Row format>"
      ]
     },
     "execution_count": 928,
     "metadata": {},
     "output_type": "execute_result"
    }
   ],
   "source": [
    "tfidf_matrix_body_train"
   ]
  },
  {
   "cell_type": "code",
   "execution_count": 929,
   "metadata": {},
   "outputs": [
    {
     "data": {
      "text/plain": [
       "<382x418 sparse matrix of type '<class 'numpy.float64'>'\n",
       "\twith 1236 stored elements in Compressed Sparse Row format>"
      ]
     },
     "execution_count": 929,
     "metadata": {},
     "output_type": "execute_result"
    }
   ],
   "source": [
    "tfidf_matrix_header_train"
   ]
  },
  {
   "cell_type": "code",
   "execution_count": 930,
   "metadata": {},
   "outputs": [
    {
     "name": "stdout",
     "output_type": "stream",
     "text": [
      "418\n",
      "1739\n"
     ]
    }
   ],
   "source": [
    "print(len(vectorizer_head.get_feature_names()))\n",
    "print(len(vectorizer_body.get_feature_names()))"
   ]
  },
  {
   "cell_type": "code",
   "execution_count": 931,
   "metadata": {},
   "outputs": [
    {
     "name": "stdout",
     "output_type": "stream",
     "text": [
      "(382, 2157)\n"
     ]
    }
   ],
   "source": [
    "import scipy\n",
    "\n",
    "X_train_vec = scipy.sparse.hstack([tfidf_matrix_header_train,tfidf_matrix_body_train])\n",
    "\n",
    "print(X_train_vec.shape)"
   ]
  },
  {
   "cell_type": "code",
   "execution_count": 932,
   "metadata": {},
   "outputs": [],
   "source": [
    "test_vectorizer = TfidfVectorizer()\n",
    "\n",
    "tfidf_matrix_header_test = vectorizer_head.transform(processed_X_test[\"header\"])\n",
    "tfidf_matrix_body_test = vectorizer_body.transform(processed_X_test[\"body\"])\n",
    "\n",
    "X_test_vec = scipy.sparse.hstack([tfidf_matrix_header_test,tfidf_matrix_body_test])"
   ]
  },
  {
   "cell_type": "markdown",
   "metadata": {},
   "source": [
    "### Creating the Classifier"
   ]
  },
  {
   "cell_type": "code",
   "execution_count": 933,
   "metadata": {},
   "outputs": [
    {
     "data": {
      "text/plain": [
       "LogisticRegression()"
      ]
     },
     "execution_count": 933,
     "metadata": {},
     "output_type": "execute_result"
    }
   ],
   "source": [
    "from sklearn.linear_model import LogisticRegression\n",
    "\n",
    "model = LogisticRegression()\n",
    "model.fit(X_train_vec, y_train)"
   ]
  },
  {
   "cell_type": "code",
   "execution_count": 934,
   "metadata": {},
   "outputs": [
    {
     "data": {
      "text/plain": [
       "0.9764397905759162"
      ]
     },
     "execution_count": 934,
     "metadata": {},
     "output_type": "execute_result"
    }
   ],
   "source": [
    "model.score(X_train_vec, y_train)"
   ]
  },
  {
   "cell_type": "code",
   "execution_count": 935,
   "metadata": {},
   "outputs": [
    {
     "data": {
      "text/plain": [
       "0.40625"
      ]
     },
     "execution_count": 935,
     "metadata": {},
     "output_type": "execute_result"
    }
   ],
   "source": [
    "preds = model.predict(X_test_vec)\n",
    "model.score(X_test_vec, y_test)"
   ]
  },
  {
   "cell_type": "code",
   "execution_count": 936,
   "metadata": {},
   "outputs": [
    {
     "data": {
      "text/plain": [
       "array([5, 4, 3, 3, 5, 4, 3, 4, 4, 5, 5, 4, 4, 5, 5, 4, 5, 4, 3, 4, 4, 2,\n",
       "       3, 4, 5, 5, 4, 4, 4, 3, 4, 4, 5, 5, 4, 4, 5, 4, 1, 3, 5, 5, 4, 3,\n",
       "       5, 5, 5, 1, 3, 5, 5, 3, 4, 3, 4, 4, 4, 4, 4, 5, 5, 5, 4, 5, 2, 4,\n",
       "       5, 3, 5, 3, 4, 4, 5, 3, 1, 4, 5, 4, 3, 5, 3, 5, 5, 3, 3, 4, 3, 3,\n",
       "       3, 4, 4, 5, 3, 3, 5, 3])"
      ]
     },
     "execution_count": 936,
     "metadata": {},
     "output_type": "execute_result"
    }
   ],
   "source": [
    "preds"
   ]
  },
  {
   "cell_type": "code",
   "execution_count": 937,
   "metadata": {},
   "outputs": [
    {
     "data": {
      "text/plain": [
       "419    4\n",
       "139    4\n",
       "227    3\n",
       "226    4\n",
       "122    5\n",
       "      ..\n",
       "281    5\n",
       "375    3\n",
       "293    3\n",
       "98     1\n",
       "53     5\n",
       "Name: review_num, Length: 96, dtype: int64"
      ]
     },
     "execution_count": 937,
     "metadata": {},
     "output_type": "execute_result"
    }
   ],
   "source": [
    "y_test"
   ]
  }
 ],
 "metadata": {
  "kernelspec": {
   "display_name": "Python 3",
   "language": "python",
   "name": "python3"
  },
  "language_info": {
   "codemirror_mode": {
    "name": "ipython",
    "version": 3
   },
   "file_extension": ".py",
   "mimetype": "text/x-python",
   "name": "python",
   "nbconvert_exporter": "python",
   "pygments_lexer": "ipython3",
   "version": "3.7.7"
  }
 },
 "nbformat": 4,
 "nbformat_minor": 4
}
